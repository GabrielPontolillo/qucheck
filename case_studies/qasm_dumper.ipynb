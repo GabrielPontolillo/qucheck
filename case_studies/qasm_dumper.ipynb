{
 "cells": [
  {
   "metadata": {},
   "cell_type": "markdown",
   "source": [
    "* Steps for quantitative analysis \n",
    "* run dump circuits to create a QS version of each mutant \n",
    "* Fix the QS mutants if there are any errors / namespace, filename and test file name/ syntax errors\n",
    "* Make a test file for the property\n",
    "* run the fg file to build and make the runner\n",
    "* run on this pc"
   ],
   "id": "11a6f5b5c1cfa99e"
  },
  {
   "cell_type": "code",
   "id": "initial_id",
   "metadata": {
    "collapsed": true,
    "ExecuteTime": {
     "end_time": "2024-10-20T22:30:15.281269Z",
     "start_time": "2024-10-20T22:30:14.797606Z"
    }
   },
   "source": [
    "from qiskit import qasm2\n",
    "import subprocess\n",
    "import importlib.util\n",
    "import sys\n",
    "import os\n",
    "\n",
    "PATH = os.path.abspath(\"\")\n",
    "\n",
    "subprocess.run([\"npm -g install q-convert\"], shell=True)\n",
    "\n",
    "def import_function(module_str, path, function_name):\n",
    "    spec = importlib.util.spec_from_file_location(module_str, path)\n",
    "    module = importlib.util.module_from_spec(spec)\n",
    "    sys.modules[module_str] = module\n",
    "    spec.loader.exec_module(module)\n",
    "    return getattr(module, function_name)\n"
   ],
   "outputs": [],
   "execution_count": 1
  },
  {
   "metadata": {
    "ExecuteTime": {
     "end_time": "2024-10-20T22:30:17.945534Z",
     "start_time": "2024-10-20T22:30:17.940675Z"
    }
   },
   "cell_type": "code",
   "source": [
    "def process_mutant(algorithm_name, mutant_suffix, index, *args):\n",
    "    mutant_name = f\"{algorithm_name}_{mutant_suffix}{index}\"\n",
    "    circuit_function = import_function(mutant_name, f\"{PATH}/{algorithm_name}/mutants/{mutant_name}.py\", algorithm_name)\n",
    "    circuit = circuit_function(*args) if args else circuit_function()\n",
    "        \n",
    "    filename = f\"{PATH}/{algorithm_name}/mutants/translated_circuits/{mutant_name}.qasm\"\n",
    "    \n",
    "    dir_path = os.path.dirname(filename)\n",
    "    if dir_path and not os.path.exists(dir_path):\n",
    "        os.makedirs(dir_path)\n",
    "    \n",
    "    qasm2.dump(circuit, filename)\n",
    "    \n",
    "    #command = [\n",
    "    #    \"q-convert\", \"-i\", filename,\n",
    "    #    \"-s\", \"qasm\", \"-o\", f\"{PATH}\\\\{algorithm_name}\\\\mutants\\\\translated_circuits\\\\{mutant_name}.qs\",\n",
    "    #    \"-d\", \"qsharp\", \"-w\"\n",
    "    #]\n",
    "    \n",
    "    #process = subprocess.run(command, shell=True, capture_output=True, text=True)\n",
    "    \n",
    "def dump_circuits(algorithm_name, *args):\n",
    "    for i in range(10):\n",
    "        process_mutant(algorithm_name, \"m\", i, *args)\n",
    "    \n",
    "    for i in range(5):\n",
    "        process_mutant(algorithm_name, \"em\", i, *args)"
   ],
   "id": "64075b04f6c68934",
   "outputs": [],
   "execution_count": 2
  },
  {
   "metadata": {
    "ExecuteTime": {
     "end_time": "2024-09-15T12:09:21.135998Z",
     "start_time": "2024-09-15T12:09:21.108088Z"
    }
   },
   "cell_type": "code",
   "source": "dump_circuits(\"quantum_teleportation\")",
   "id": "1436ed2ba06783ff",
   "outputs": [],
   "execution_count": 4
  },
  {
   "metadata": {
    "ExecuteTime": {
     "end_time": "2024-09-15T12:09:43.576955Z",
     "start_time": "2024-09-15T12:09:42.843593Z"
    }
   },
   "cell_type": "code",
   "source": "dump_circuits(\"quantum_fourier_transform\", 5)",
   "id": "90995bbe18dd1cf1",
   "outputs": [],
   "execution_count": 6
  },
  {
   "metadata": {
    "ExecuteTime": {
     "end_time": "2024-09-15T12:09:47.553065Z",
     "start_time": "2024-09-15T12:09:47.450784Z"
    }
   },
   "cell_type": "code",
   "source": "dump_circuits(\"grover_search\")",
   "id": "d0525eaabc1fa033",
   "outputs": [
    {
     "ename": "FileNotFoundError",
     "evalue": "[Errno 2] No such file or directory: 'C:\\\\Users\\\\gabri\\\\Desktop\\\\PycharmProjects\\\\qucheck\\\\case_studies/grover_search/mutants/grover_search_m0.py'",
     "output_type": "error",
     "traceback": [
      "\u001B[1;31m---------------------------------------------------------------------------\u001B[0m",
      "\u001B[1;31mFileNotFoundError\u001B[0m                         Traceback (most recent call last)",
      "Cell \u001B[1;32mIn[7], line 1\u001B[0m\n\u001B[1;32m----> 1\u001B[0m dump_circuits(\u001B[38;5;124m\"\u001B[39m\u001B[38;5;124mgrover_search\u001B[39m\u001B[38;5;124m\"\u001B[39m)\n",
      "Cell \u001B[1;32mIn[3], line 24\u001B[0m, in \u001B[0;36mdump_circuits\u001B[1;34m(algorithm_name, *args)\u001B[0m\n\u001B[0;32m     22\u001B[0m \u001B[38;5;28;01mdef\u001B[39;00m \u001B[38;5;21mdump_circuits\u001B[39m(algorithm_name, \u001B[38;5;241m*\u001B[39margs):\n\u001B[0;32m     23\u001B[0m     \u001B[38;5;28;01mfor\u001B[39;00m i \u001B[38;5;129;01min\u001B[39;00m \u001B[38;5;28mrange\u001B[39m(\u001B[38;5;241m10\u001B[39m):\n\u001B[1;32m---> 24\u001B[0m         process_mutant(algorithm_name, \u001B[38;5;124m\"\u001B[39m\u001B[38;5;124mm\u001B[39m\u001B[38;5;124m\"\u001B[39m, i, \u001B[38;5;241m*\u001B[39margs)\n\u001B[0;32m     26\u001B[0m     \u001B[38;5;28;01mfor\u001B[39;00m i \u001B[38;5;129;01min\u001B[39;00m \u001B[38;5;28mrange\u001B[39m(\u001B[38;5;241m5\u001B[39m):\n\u001B[0;32m     27\u001B[0m         process_mutant(algorithm_name, \u001B[38;5;124m\"\u001B[39m\u001B[38;5;124mem\u001B[39m\u001B[38;5;124m\"\u001B[39m, i, \u001B[38;5;241m*\u001B[39margs)\n",
      "Cell \u001B[1;32mIn[3], line 3\u001B[0m, in \u001B[0;36mprocess_mutant\u001B[1;34m(algorithm_name, mutant_suffix, index, *args)\u001B[0m\n\u001B[0;32m      1\u001B[0m \u001B[38;5;28;01mdef\u001B[39;00m \u001B[38;5;21mprocess_mutant\u001B[39m(algorithm_name, mutant_suffix, index, \u001B[38;5;241m*\u001B[39margs):\n\u001B[0;32m      2\u001B[0m     mutant_name \u001B[38;5;241m=\u001B[39m \u001B[38;5;124mf\u001B[39m\u001B[38;5;124m\"\u001B[39m\u001B[38;5;132;01m{\u001B[39;00malgorithm_name\u001B[38;5;132;01m}\u001B[39;00m\u001B[38;5;124m_\u001B[39m\u001B[38;5;132;01m{\u001B[39;00mmutant_suffix\u001B[38;5;132;01m}\u001B[39;00m\u001B[38;5;132;01m{\u001B[39;00mindex\u001B[38;5;132;01m}\u001B[39;00m\u001B[38;5;124m\"\u001B[39m\n\u001B[1;32m----> 3\u001B[0m     circuit_function \u001B[38;5;241m=\u001B[39m import_function(mutant_name, \u001B[38;5;124mf\u001B[39m\u001B[38;5;124m\"\u001B[39m\u001B[38;5;132;01m{\u001B[39;00mPATH\u001B[38;5;132;01m}\u001B[39;00m\u001B[38;5;124m/\u001B[39m\u001B[38;5;132;01m{\u001B[39;00malgorithm_name\u001B[38;5;132;01m}\u001B[39;00m\u001B[38;5;124m/mutants/\u001B[39m\u001B[38;5;132;01m{\u001B[39;00mmutant_name\u001B[38;5;132;01m}\u001B[39;00m\u001B[38;5;124m.py\u001B[39m\u001B[38;5;124m\"\u001B[39m, algorithm_name)\n\u001B[0;32m      4\u001B[0m     circuit \u001B[38;5;241m=\u001B[39m circuit_function(\u001B[38;5;241m*\u001B[39margs) \u001B[38;5;28;01mif\u001B[39;00m args \u001B[38;5;28;01melse\u001B[39;00m circuit_function()\n\u001B[0;32m      6\u001B[0m     filename \u001B[38;5;241m=\u001B[39m \u001B[38;5;124mf\u001B[39m\u001B[38;5;124m\"\u001B[39m\u001B[38;5;132;01m{\u001B[39;00mPATH\u001B[38;5;132;01m}\u001B[39;00m\u001B[38;5;124m/\u001B[39m\u001B[38;5;132;01m{\u001B[39;00malgorithm_name\u001B[38;5;132;01m}\u001B[39;00m\u001B[38;5;124m/mutants/translated_circuits/\u001B[39m\u001B[38;5;132;01m{\u001B[39;00mmutant_name\u001B[38;5;132;01m}\u001B[39;00m\u001B[38;5;124m.qasm\u001B[39m\u001B[38;5;124m\"\u001B[39m\n",
      "Cell \u001B[1;32mIn[1], line 15\u001B[0m, in \u001B[0;36mimport_function\u001B[1;34m(module_str, path, function_name)\u001B[0m\n\u001B[0;32m     13\u001B[0m module \u001B[38;5;241m=\u001B[39m importlib\u001B[38;5;241m.\u001B[39mutil\u001B[38;5;241m.\u001B[39mmodule_from_spec(spec)\n\u001B[0;32m     14\u001B[0m sys\u001B[38;5;241m.\u001B[39mmodules[module_str] \u001B[38;5;241m=\u001B[39m module\n\u001B[1;32m---> 15\u001B[0m spec\u001B[38;5;241m.\u001B[39mloader\u001B[38;5;241m.\u001B[39mexec_module(module)\n\u001B[0;32m     16\u001B[0m \u001B[38;5;28;01mreturn\u001B[39;00m \u001B[38;5;28mgetattr\u001B[39m(module, function_name)\n",
      "File \u001B[1;32m<frozen importlib._bootstrap_external>:936\u001B[0m, in \u001B[0;36mexec_module\u001B[1;34m(self, module)\u001B[0m\n",
      "File \u001B[1;32m<frozen importlib._bootstrap_external>:1073\u001B[0m, in \u001B[0;36mget_code\u001B[1;34m(self, fullname)\u001B[0m\n",
      "File \u001B[1;32m<frozen importlib._bootstrap_external>:1130\u001B[0m, in \u001B[0;36mget_data\u001B[1;34m(self, path)\u001B[0m\n",
      "\u001B[1;31mFileNotFoundError\u001B[0m: [Errno 2] No such file or directory: 'C:\\\\Users\\\\gabri\\\\Desktop\\\\PycharmProjects\\\\qucheck\\\\case_studies/grover_search/mutants/grover_search_m0.py'"
     ]
    }
   ],
   "execution_count": 7
  },
  {
   "metadata": {},
   "cell_type": "code",
   "outputs": [],
   "execution_count": null,
   "source": "dump_circuits(\"quantum_phase_estimation\")",
   "id": "dcfc4113252da219"
  },
  {
   "metadata": {},
   "cell_type": "code",
   "outputs": [],
   "execution_count": null,
   "source": "dump_circuits(\"deutsch_jozsa\")",
   "id": "3b9b8b53a06906fd"
  },
  {
   "metadata": {
    "ExecuteTime": {
     "end_time": "2024-10-21T00:56:24.251467Z",
     "start_time": "2024-10-21T00:56:24.235451Z"
    }
   },
   "cell_type": "code",
   "source": "dump_circuits(\"superdense_coding\", 1, 1)",
   "id": "19305408d240f5a4",
   "outputs": [],
   "execution_count": 8
  }
 ],
 "metadata": {
  "kernelspec": {
   "display_name": "Python 3",
   "language": "python",
   "name": "python3"
  },
  "language_info": {
   "codemirror_mode": {
    "name": "ipython",
    "version": 2
   },
   "file_extension": ".py",
   "mimetype": "text/x-python",
   "name": "python",
   "nbconvert_exporter": "python",
   "pygments_lexer": "ipython2",
   "version": "2.7.6"
  }
 },
 "nbformat": 4,
 "nbformat_minor": 5
}
